{
 "cells": [
  {
   "cell_type": "code",
   "execution_count": 1,
   "id": "03a91d44",
   "metadata": {},
   "outputs": [
    {
     "name": "stdout",
     "output_type": "stream",
     "text": [
      "Please visit this URL to authorize this application: https://accounts.google.com/o/oauth2/auth?response_type=code&client_id=725695838850-3pp8b4qjgqebrq8iqdag2pmkhcmp7h3i.apps.googleusercontent.com&redirect_uri=http%3A%2F%2Flocalhost%3A8080%2F&scope=https%3A%2F%2Fwww.googleapis.com%2Fauth%2Fyoutube.force-ssl&state=ZS88y2dKsIzGO3Z7pxjDNsNxPRwrwR&access_type=offline\n"
     ]
    }
   ],
   "source": [
    "import os\n",
    "\n",
    "from google_auth_oauthlib.flow import InstalledAppFlow\n",
    "from google.auth.transport.requests import Request\n",
    "from googleapiclient.discovery import build\n",
    "import googleapiclient.discovery\n",
    "import googleapiclient.errors\n",
    "import google_auth_oauthlib.flow\n",
    "\n",
    "scopes = [\"https://www.googleapis.com/auth/youtube.force-ssl\"]\n",
    "\n",
    "flow = InstalledAppFlow.from_client_secrets_file(\n",
    " \"Youtube_Oauth.json\", scopes = scopes)\n",
    "\n",
    "flow.run_local_server(port = 8080)\n",
    "\n",
    "credentials = flow.credentials"
   ]
  },
  {
   "cell_type": "code",
   "execution_count": 2,
   "id": "b6a4e0a2",
   "metadata": {},
   "outputs": [],
   "source": [
    "api_service_name = \"youtube\"\n",
    "api_version = \"v3\"\n",
    "client_secrets_file = \"Youtube_Oauth.json\"\n",
    "\n",
    "youtube = googleapiclient.discovery.build(\n",
    "    api_service_name, api_version, credentials=credentials)"
   ]
  },
  {
   "cell_type": "code",
   "execution_count": 3,
   "id": "2a22dc37",
   "metadata": {},
   "outputs": [],
   "source": [
    "#Healthcare machine learning lesson id\n",
    "\n",
    "hc_ml_id = ['vof7x8r_ZUA','DS97JV_o0Fs','0UFwGJe6ubg','_shuV1tJbTU','wqI_z1yumzY',\n",
    "           'lLhfDSOwWtU','IiD3YZkkCmE','lkO2ocJBsmI','ZQu2B3GyI_k','MoEaRpLNo9A',\n",
    "           'VuKOW8d4KHw','PKCMH5KOcxQ','2ZXYM1h9pgY','gRkUhg9Wb-I','g5v-NvNoJQQ',\n",
    "           'YZ5pOgY5hEE','zdotUAxiPGM','yYWyLZrdRRI','aJqgO8e37_g','kZrb6ZIwJqg',\n",
    "           'Td01vFP3uJo','k95abdkdCPk','zYgkr0KfWM0','MdUnh4PaGKw','wDLzLN1tArA']"
   ]
  },
  {
   "cell_type": "code",
   "execution_count": 2,
   "id": "35ce152e",
   "metadata": {},
   "outputs": [
    {
     "ename": "NoTranscriptFound",
     "evalue": "\nCould not retrieve a transcript for the video https://www.youtube.com/watch?v=FMOH__LUUI8! This is most likely caused by:\n\nNo transcripts were found for any of the requested language codes: ('en',)\n\nFor this video (FMOH__LUUI8) transcripts are available in the following languages:\n\n(MANUALLY CREATED)\n - ar (\"Arabic\")[TRANSLATABLE]\n\n(GENERATED)\nNone\n\n(TRANSLATION LANGUAGES)\n - af (\"Afrikaans\")\n - ak (\"Akan\")\n - sq (\"Albanian\")\n - am (\"Amharic\")\n - ar (\"Arabic\")\n - hy (\"Armenian\")\n - as (\"Assamese\")\n - ay (\"Aymara\")\n - az (\"Azerbaijani\")\n - bn (\"Bangla\")\n - eu (\"Basque\")\n - be (\"Belarusian\")\n - bho (\"Bhojpuri\")\n - bs (\"Bosnian\")\n - bg (\"Bulgarian\")\n - my (\"Burmese\")\n - ca (\"Catalan\")\n - ceb (\"Cebuano\")\n - zh-Hans (\"Chinese (Simplified)\")\n - zh-Hant (\"Chinese (Traditional)\")\n - co (\"Corsican\")\n - hr (\"Croatian\")\n - cs (\"Czech\")\n - da (\"Danish\")\n - dv (\"Divehi\")\n - nl (\"Dutch\")\n - en (\"English\")\n - eo (\"Esperanto\")\n - et (\"Estonian\")\n - ee (\"Ewe\")\n - fil (\"Filipino\")\n - fi (\"Finnish\")\n - fr (\"French\")\n - gl (\"Galician\")\n - lg (\"Ganda\")\n - ka (\"Georgian\")\n - de (\"German\")\n - el (\"Greek\")\n - gn (\"Guarani\")\n - gu (\"Gujarati\")\n - ht (\"Haitian Creole\")\n - ha (\"Hausa\")\n - haw (\"Hawaiian\")\n - iw (\"Hebrew\")\n - hi (\"Hindi\")\n - hmn (\"Hmong\")\n - hu (\"Hungarian\")\n - is (\"Icelandic\")\n - ig (\"Igbo\")\n - id (\"Indonesian\")\n - ga (\"Irish\")\n - it (\"Italian\")\n - ja (\"Japanese\")\n - jv (\"Javanese\")\n - kn (\"Kannada\")\n - kk (\"Kazakh\")\n - km (\"Khmer\")\n - rw (\"Kinyarwanda\")\n - ko (\"Korean\")\n - kri (\"Krio\")\n - ku (\"Kurdish\")\n - ky (\"Kyrgyz\")\n - lo (\"Lao\")\n - la (\"Latin\")\n - lv (\"Latvian\")\n - ln (\"Lingala\")\n - lt (\"Lithuanian\")\n - lb (\"Luxembourgish\")\n - mk (\"Macedonian\")\n - mg (\"Malagasy\")\n - ms (\"Malay\")\n - ml (\"Malayalam\")\n - mt (\"Maltese\")\n - mi (\"Māori\")\n - mr (\"Marathi\")\n - mn (\"Mongolian\")\n - ne (\"Nepali\")\n - nso (\"Northern Sotho\")\n - no (\"Norwegian\")\n - ny (\"Nyanja\")\n - or (\"Odia\")\n - om (\"Oromo\")\n - ps (\"Pashto\")\n - fa (\"Persian\")\n - pl (\"Polish\")\n - pt (\"Portuguese\")\n - pa (\"Punjabi\")\n - qu (\"Quechua\")\n - ro (\"Romanian\")\n - ru (\"Russian\")\n - sm (\"Samoan\")\n - sa (\"Sanskrit\")\n - gd (\"Scottish Gaelic\")\n - sr (\"Serbian\")\n - sn (\"Shona\")\n - sd (\"Sindhi\")\n - si (\"Sinhala\")\n - sk (\"Slovak\")\n - sl (\"Slovenian\")\n - so (\"Somali\")\n - st (\"Southern Sotho\")\n - es (\"Spanish\")\n - su (\"Sundanese\")\n - sw (\"Swahili\")\n - sv (\"Swedish\")\n - tg (\"Tajik\")\n - ta (\"Tamil\")\n - tt (\"Tatar\")\n - te (\"Telugu\")\n - th (\"Thai\")\n - ti (\"Tigrinya\")\n - ts (\"Tsonga\")\n - tr (\"Turkish\")\n - tk (\"Turkmen\")\n - uk (\"Ukrainian\")\n - ur (\"Urdu\")\n - ug (\"Uyghur\")\n - uz (\"Uzbek\")\n - vi (\"Vietnamese\")\n - cy (\"Welsh\")\n - fy (\"Western Frisian\")\n - xh (\"Xhosa\")\n - yi (\"Yiddish\")\n - yo (\"Yoruba\")\n - zu (\"Zulu\")\n\nIf you are sure that the described cause is not responsible for this error and that a transcript should be retrievable, please create an issue at https://github.com/jdepoix/youtube-transcript-api/issues. Please add which version of youtube_transcript_api you are using and provide the information needed to replicate the error. Also make sure that there are no open issues which already describe your problem!",
     "output_type": "error",
     "traceback": [
      "\u001b[0;31m---------------------------------------------------------------------------\u001b[0m",
      "\u001b[0;31mNoTranscriptFound\u001b[0m                         Traceback (most recent call last)",
      "Input \u001b[0;32mIn [2]\u001b[0m, in \u001b[0;36m<cell line: 5>\u001b[0;34m()\u001b[0m\n\u001b[1;32m      1\u001b[0m \u001b[38;5;66;03m#cancer drug id\u001b[39;00m\n\u001b[1;32m      3\u001b[0m \u001b[38;5;28;01mfrom\u001b[39;00m \u001b[38;5;21;01myoutube_transcript_api\u001b[39;00m \u001b[38;5;28;01mimport\u001b[39;00m YouTubeTranscriptApi\n\u001b[0;32m----> 5\u001b[0m caption \u001b[38;5;241m=\u001b[39m \u001b[43mYouTubeTranscriptApi\u001b[49m\u001b[38;5;241;43m.\u001b[39;49m\u001b[43mget_transcript\u001b[49m\u001b[43m(\u001b[49m\u001b[38;5;124;43m'\u001b[39;49m\u001b[38;5;124;43mFMOH__LUUI8\u001b[39;49m\u001b[38;5;124;43m'\u001b[39;49m\u001b[43m)\u001b[49m\n",
      "File \u001b[0;32m~/opt/anaconda3/lib/python3.9/site-packages/youtube_transcript_api/_api.py:132\u001b[0m, in \u001b[0;36mYouTubeTranscriptApi.get_transcript\u001b[0;34m(cls, video_id, languages, proxies, cookies)\u001b[0m\n\u001b[1;32m    113\u001b[0m \u001b[38;5;250m\u001b[39m\u001b[38;5;124;03m\"\"\"\u001b[39;00m\n\u001b[1;32m    114\u001b[0m \u001b[38;5;124;03mRetrieves the transcript for a single video. This is just a shortcut for calling::\u001b[39;00m\n\u001b[1;32m    115\u001b[0m \n\u001b[0;32m   (...)\u001b[0m\n\u001b[1;32m    129\u001b[0m \u001b[38;5;124;03m:rtype [{'text': str, 'start': float, 'end': float}]:\u001b[39;00m\n\u001b[1;32m    130\u001b[0m \u001b[38;5;124;03m\"\"\"\u001b[39;00m\n\u001b[1;32m    131\u001b[0m \u001b[38;5;28;01massert\u001b[39;00m \u001b[38;5;28misinstance\u001b[39m(video_id, \u001b[38;5;28mstr\u001b[39m), \u001b[38;5;124m\"\u001b[39m\u001b[38;5;124m`video_id` must be a string\u001b[39m\u001b[38;5;124m\"\u001b[39m\n\u001b[0;32m--> 132\u001b[0m \u001b[38;5;28;01mreturn\u001b[39;00m \u001b[38;5;28;43mcls\u001b[39;49m\u001b[38;5;241;43m.\u001b[39;49m\u001b[43mlist_transcripts\u001b[49m\u001b[43m(\u001b[49m\u001b[43mvideo_id\u001b[49m\u001b[43m,\u001b[49m\u001b[43m \u001b[49m\u001b[43mproxies\u001b[49m\u001b[43m,\u001b[49m\u001b[43m \u001b[49m\u001b[43mcookies\u001b[49m\u001b[43m)\u001b[49m\u001b[38;5;241;43m.\u001b[39;49m\u001b[43mfind_transcript\u001b[49m\u001b[43m(\u001b[49m\u001b[43mlanguages\u001b[49m\u001b[43m)\u001b[49m\u001b[38;5;241m.\u001b[39mfetch()\n",
      "File \u001b[0;32m~/opt/anaconda3/lib/python3.9/site-packages/youtube_transcript_api/_transcripts.py:179\u001b[0m, in \u001b[0;36mTranscriptList.find_transcript\u001b[0;34m(self, language_codes)\u001b[0m\n\u001b[1;32m    165\u001b[0m \u001b[38;5;28;01mdef\u001b[39;00m \u001b[38;5;21mfind_transcript\u001b[39m(\u001b[38;5;28mself\u001b[39m, language_codes):\n\u001b[1;32m    166\u001b[0m \u001b[38;5;250m    \u001b[39m\u001b[38;5;124;03m\"\"\"\u001b[39;00m\n\u001b[1;32m    167\u001b[0m \u001b[38;5;124;03m    Finds a transcript for a given language code. Manually created transcripts are returned first and only if none\u001b[39;00m\n\u001b[1;32m    168\u001b[0m \u001b[38;5;124;03m    are found, generated transcripts are used. If you only want generated transcripts use\u001b[39;00m\n\u001b[0;32m   (...)\u001b[0m\n\u001b[1;32m    177\u001b[0m \u001b[38;5;124;03m    :raises: NoTranscriptFound\u001b[39;00m\n\u001b[1;32m    178\u001b[0m \u001b[38;5;124;03m    \"\"\"\u001b[39;00m\n\u001b[0;32m--> 179\u001b[0m     \u001b[38;5;28;01mreturn\u001b[39;00m \u001b[38;5;28;43mself\u001b[39;49m\u001b[38;5;241;43m.\u001b[39;49m\u001b[43m_find_transcript\u001b[49m\u001b[43m(\u001b[49m\u001b[43mlanguage_codes\u001b[49m\u001b[43m,\u001b[49m\u001b[43m \u001b[49m\u001b[43m[\u001b[49m\u001b[38;5;28;43mself\u001b[39;49m\u001b[38;5;241;43m.\u001b[39;49m\u001b[43m_manually_created_transcripts\u001b[49m\u001b[43m,\u001b[49m\u001b[43m \u001b[49m\u001b[38;5;28;43mself\u001b[39;49m\u001b[38;5;241;43m.\u001b[39;49m\u001b[43m_generated_transcripts\u001b[49m\u001b[43m]\u001b[49m\u001b[43m)\u001b[49m\n",
      "File \u001b[0;32m~/opt/anaconda3/lib/python3.9/site-packages/youtube_transcript_api/_transcripts.py:215\u001b[0m, in \u001b[0;36mTranscriptList._find_transcript\u001b[0;34m(self, language_codes, transcript_dicts)\u001b[0m\n\u001b[1;32m    212\u001b[0m         \u001b[38;5;28;01mif\u001b[39;00m language_code \u001b[38;5;129;01min\u001b[39;00m transcript_dict:\n\u001b[1;32m    213\u001b[0m             \u001b[38;5;28;01mreturn\u001b[39;00m transcript_dict[language_code]\n\u001b[0;32m--> 215\u001b[0m \u001b[38;5;28;01mraise\u001b[39;00m NoTranscriptFound(\n\u001b[1;32m    216\u001b[0m     \u001b[38;5;28mself\u001b[39m\u001b[38;5;241m.\u001b[39mvideo_id,\n\u001b[1;32m    217\u001b[0m     language_codes,\n\u001b[1;32m    218\u001b[0m     \u001b[38;5;28mself\u001b[39m\n\u001b[1;32m    219\u001b[0m )\n",
      "\u001b[0;31mNoTranscriptFound\u001b[0m: \nCould not retrieve a transcript for the video https://www.youtube.com/watch?v=FMOH__LUUI8! This is most likely caused by:\n\nNo transcripts were found for any of the requested language codes: ('en',)\n\nFor this video (FMOH__LUUI8) transcripts are available in the following languages:\n\n(MANUALLY CREATED)\n - ar (\"Arabic\")[TRANSLATABLE]\n\n(GENERATED)\nNone\n\n(TRANSLATION LANGUAGES)\n - af (\"Afrikaans\")\n - ak (\"Akan\")\n - sq (\"Albanian\")\n - am (\"Amharic\")\n - ar (\"Arabic\")\n - hy (\"Armenian\")\n - as (\"Assamese\")\n - ay (\"Aymara\")\n - az (\"Azerbaijani\")\n - bn (\"Bangla\")\n - eu (\"Basque\")\n - be (\"Belarusian\")\n - bho (\"Bhojpuri\")\n - bs (\"Bosnian\")\n - bg (\"Bulgarian\")\n - my (\"Burmese\")\n - ca (\"Catalan\")\n - ceb (\"Cebuano\")\n - zh-Hans (\"Chinese (Simplified)\")\n - zh-Hant (\"Chinese (Traditional)\")\n - co (\"Corsican\")\n - hr (\"Croatian\")\n - cs (\"Czech\")\n - da (\"Danish\")\n - dv (\"Divehi\")\n - nl (\"Dutch\")\n - en (\"English\")\n - eo (\"Esperanto\")\n - et (\"Estonian\")\n - ee (\"Ewe\")\n - fil (\"Filipino\")\n - fi (\"Finnish\")\n - fr (\"French\")\n - gl (\"Galician\")\n - lg (\"Ganda\")\n - ka (\"Georgian\")\n - de (\"German\")\n - el (\"Greek\")\n - gn (\"Guarani\")\n - gu (\"Gujarati\")\n - ht (\"Haitian Creole\")\n - ha (\"Hausa\")\n - haw (\"Hawaiian\")\n - iw (\"Hebrew\")\n - hi (\"Hindi\")\n - hmn (\"Hmong\")\n - hu (\"Hungarian\")\n - is (\"Icelandic\")\n - ig (\"Igbo\")\n - id (\"Indonesian\")\n - ga (\"Irish\")\n - it (\"Italian\")\n - ja (\"Japanese\")\n - jv (\"Javanese\")\n - kn (\"Kannada\")\n - kk (\"Kazakh\")\n - km (\"Khmer\")\n - rw (\"Kinyarwanda\")\n - ko (\"Korean\")\n - kri (\"Krio\")\n - ku (\"Kurdish\")\n - ky (\"Kyrgyz\")\n - lo (\"Lao\")\n - la (\"Latin\")\n - lv (\"Latvian\")\n - ln (\"Lingala\")\n - lt (\"Lithuanian\")\n - lb (\"Luxembourgish\")\n - mk (\"Macedonian\")\n - mg (\"Malagasy\")\n - ms (\"Malay\")\n - ml (\"Malayalam\")\n - mt (\"Maltese\")\n - mi (\"Māori\")\n - mr (\"Marathi\")\n - mn (\"Mongolian\")\n - ne (\"Nepali\")\n - nso (\"Northern Sotho\")\n - no (\"Norwegian\")\n - ny (\"Nyanja\")\n - or (\"Odia\")\n - om (\"Oromo\")\n - ps (\"Pashto\")\n - fa (\"Persian\")\n - pl (\"Polish\")\n - pt (\"Portuguese\")\n - pa (\"Punjabi\")\n - qu (\"Quechua\")\n - ro (\"Romanian\")\n - ru (\"Russian\")\n - sm (\"Samoan\")\n - sa (\"Sanskrit\")\n - gd (\"Scottish Gaelic\")\n - sr (\"Serbian\")\n - sn (\"Shona\")\n - sd (\"Sindhi\")\n - si (\"Sinhala\")\n - sk (\"Slovak\")\n - sl (\"Slovenian\")\n - so (\"Somali\")\n - st (\"Southern Sotho\")\n - es (\"Spanish\")\n - su (\"Sundanese\")\n - sw (\"Swahili\")\n - sv (\"Swedish\")\n - tg (\"Tajik\")\n - ta (\"Tamil\")\n - tt (\"Tatar\")\n - te (\"Telugu\")\n - th (\"Thai\")\n - ti (\"Tigrinya\")\n - ts (\"Tsonga\")\n - tr (\"Turkish\")\n - tk (\"Turkmen\")\n - uk (\"Ukrainian\")\n - ur (\"Urdu\")\n - ug (\"Uyghur\")\n - uz (\"Uzbek\")\n - vi (\"Vietnamese\")\n - cy (\"Welsh\")\n - fy (\"Western Frisian\")\n - xh (\"Xhosa\")\n - yi (\"Yiddish\")\n - yo (\"Yoruba\")\n - zu (\"Zulu\")\n\nIf you are sure that the described cause is not responsible for this error and that a transcript should be retrievable, please create an issue at https://github.com/jdepoix/youtube-transcript-api/issues. Please add which version of youtube_transcript_api you are using and provide the information needed to replicate the error. Also make sure that there are no open issues which already describe your problem!"
     ]
    }
   ],
   "source": [
    "#cancer drug id\n",
    "\n",
    "from youtube_transcript_api import YouTubeTranscriptApi\n",
    "\n",
    "caption = YouTubeTranscriptApi.get_transcript('FUYFdZ6-LHc')\n"
   ]
  },
  {
   "cell_type": "code",
   "execution_count": 4,
   "id": "69c3a90f",
   "metadata": {},
   "outputs": [],
   "source": [
    "def caption_merge(text,video_id,ans):\n",
    "    #Get youtube info\n",
    "    request = youtube.videos().list(\n",
    "    part=\"snippet\",\n",
    "    id=video_id)\n",
    "    response = request.execute()\n",
    "    title = response['items'][0]['snippet']['title']\n",
    "    channelTitle = response['items'][0]['snippet']['channelTitle']\n",
    "    publishedAt = response['items'][0]['snippet']['publishedAt']\n",
    "    \n",
    "    \n",
    "    \n",
    "    output = []\n",
    "    curr_caption = ' '\n",
    "    current_id = 0\n",
    "\n",
    "    for i in range(len(text)):\n",
    "        #final_stop\n",
    "        if i == len(text)-1:\n",
    "            output.append({'text':curr_caption,\n",
    "                          'id':video_id+'_'+str(int(current_id))})\n",
    "            pass\n",
    "        \n",
    "        #to next session\n",
    "        if current_id != text[i]['start']//60:\n",
    "            output.append({'text':curr_caption,\n",
    "                          'id':video_id+'_'+str(int(current_id)),\n",
    "                          'title':title,\n",
    "                          channelTitle:channelTitle,\n",
    "                          publishedAt:publishedAt})\n",
    "            \n",
    "            current_id = text[i]['start']//60\n",
    "            curr_caption = ' '\n",
    "        \n",
    "        else:\n",
    "            curr_caption += (' ' + text[i]['text'])\n",
    "            continue\n",
    "    \n",
    "    ans += output"
   ]
  },
  {
   "cell_type": "code",
   "execution_count": 5,
   "id": "4ded2258",
   "metadata": {},
   "outputs": [],
   "source": [
    "from youtube_transcript_api import YouTubeTranscriptApi\n",
    "\n",
    "ans = []\n",
    "\n",
    "for i in range(len(hc_ml_id)):\n",
    "    caption = YouTubeTranscriptApi.get_transcript(hc_ml_id[i])\n",
    "    caption_merge(caption,hc_ml_id[i],ans)\n"
   ]
  },
  {
   "cell_type": "code",
   "execution_count": 7,
   "id": "1e48ceea",
   "metadata": {},
   "outputs": [],
   "source": [
    "import json\n",
    "\n",
    "# Sample dictionary data\n",
    "data = {\n",
    "    \"HC-ML\":ans\n",
    "}\n",
    "\n",
    "# Save the dictionary as a JSON file\n",
    "with open(\"Healthcare-ML-caption.json\", \"w\") as file:\n",
    "    json.dump(data, file)"
   ]
  },
  {
   "cell_type": "code",
   "execution_count": null,
   "id": "54ead48a",
   "metadata": {},
   "outputs": [],
   "source": []
  }
 ],
 "metadata": {
  "kernelspec": {
   "display_name": "Python 3 (ipykernel)",
   "language": "python",
   "name": "python3"
  },
  "language_info": {
   "codemirror_mode": {
    "name": "ipython",
    "version": 3
   },
   "file_extension": ".py",
   "mimetype": "text/x-python",
   "name": "python",
   "nbconvert_exporter": "python",
   "pygments_lexer": "ipython3",
   "version": "3.9.12"
  }
 },
 "nbformat": 4,
 "nbformat_minor": 5
}
