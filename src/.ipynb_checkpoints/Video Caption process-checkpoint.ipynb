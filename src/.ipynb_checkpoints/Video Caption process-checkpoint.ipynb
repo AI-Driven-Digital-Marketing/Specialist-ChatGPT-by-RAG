{
 "cells": [
  {
   "cell_type": "code",
   "execution_count": 1,
   "id": "03a91d44",
   "metadata": {},
   "outputs": [
    {
     "name": "stdout",
     "output_type": "stream",
     "text": [
      "Please visit this URL to authorize this application: https://accounts.google.com/o/oauth2/auth?response_type=code&client_id=725695838850-3pp8b4qjgqebrq8iqdag2pmkhcmp7h3i.apps.googleusercontent.com&redirect_uri=http%3A%2F%2Flocalhost%3A8080%2F&scope=https%3A%2F%2Fwww.googleapis.com%2Fauth%2Fyoutube.force-ssl&state=ZS88y2dKsIzGO3Z7pxjDNsNxPRwrwR&access_type=offline\n"
     ]
    }
   ],
   "source": [
    "import os\n",
    "\n",
    "from google_auth_oauthlib.flow import InstalledAppFlow\n",
    "from google.auth.transport.requests import Request\n",
    "from googleapiclient.discovery import build\n",
    "import googleapiclient.discovery\n",
    "import googleapiclient.errors\n",
    "import google_auth_oauthlib.flow\n",
    "\n",
    "scopes = [\"https://www.googleapis.com/auth/youtube.force-ssl\"]\n",
    "\n",
    "flow = InstalledAppFlow.from_client_secrets_file(\n",
    " \"Youtube_Oauth.json\", scopes = scopes)\n",
    "\n",
    "flow.run_local_server(port = 8080)\n",
    "\n",
    "credentials = flow.credentials"
   ]
  },
  {
   "cell_type": "code",
   "execution_count": 2,
   "id": "b6a4e0a2",
   "metadata": {},
   "outputs": [],
   "source": [
    "api_service_name = \"youtube\"\n",
    "api_version = \"v3\"\n",
    "client_secrets_file = \"Youtube_Oauth.json\"\n",
    "\n",
    "youtube = googleapiclient.discovery.build(\n",
    "    api_service_name, api_version, credentials=credentials)"
   ]
  },
  {
   "cell_type": "code",
   "execution_count": 3,
   "id": "2a22dc37",
   "metadata": {},
   "outputs": [],
   "source": [
    "#Healthcare machine learning lesson id\n",
    "\n",
    "hc_ml_id = ['vof7x8r_ZUA','DS97JV_o0Fs','0UFwGJe6ubg','_shuV1tJbTU','wqI_z1yumzY',\n",
    "           'lLhfDSOwWtU','IiD3YZkkCmE','lkO2ocJBsmI','ZQu2B3GyI_k','MoEaRpLNo9A',\n",
    "           'VuKOW8d4KHw','PKCMH5KOcxQ','2ZXYM1h9pgY','gRkUhg9Wb-I','g5v-NvNoJQQ',\n",
    "           'YZ5pOgY5hEE','zdotUAxiPGM','yYWyLZrdRRI','aJqgO8e37_g','kZrb6ZIwJqg',\n",
    "           'Td01vFP3uJo','k95abdkdCPk','zYgkr0KfWM0','MdUnh4PaGKw','wDLzLN1tArA']"
   ]
  },
  {
   "cell_type": "code",
   "execution_count": 4,
   "id": "69c3a90f",
   "metadata": {},
   "outputs": [],
   "source": [
    "def caption_merge(text,video_id,ans):\n",
    "    #Get youtube info\n",
    "    request = youtube.videos().list(\n",
    "    part=\"snippet\",\n",
    "    id=video_id)\n",
    "    response = request.execute()\n",
    "    title = response['items'][0]['snippet']['title']\n",
    "    channelTitle = response['items'][0]['snippet']['channelTitle']\n",
    "    publishedAt = response['items'][0]['snippet']['publishedAt']\n",
    "    \n",
    "    \n",
    "    \n",
    "    output = []\n",
    "    curr_caption = ' '\n",
    "    current_id = 0\n",
    "\n",
    "    for i in range(len(text)):\n",
    "        #final_stop\n",
    "        if i == len(text)-1:\n",
    "            output.append({'text':curr_caption,\n",
    "                          'id':video_id+'_'+str(int(current_id))})\n",
    "            pass\n",
    "        \n",
    "        #to next session\n",
    "        if current_id != text[i]['start']//60:\n",
    "            output.append({'text':curr_caption,\n",
    "                          'id':video_id+'_'+str(int(current_id)),\n",
    "                          'title':title,\n",
    "                          channelTitle:channelTitle,\n",
    "                          publishedAt:publishedAt})\n",
    "            \n",
    "            current_id = text[i]['start']//60\n",
    "            curr_caption = ' '\n",
    "        \n",
    "        else:\n",
    "            curr_caption += (' ' + text[i]['text'])\n",
    "            continue\n",
    "    \n",
    "    ans += output"
   ]
  },
  {
   "cell_type": "code",
   "execution_count": 5,
   "id": "4ded2258",
   "metadata": {},
   "outputs": [],
   "source": [
    "from youtube_transcript_api import YouTubeTranscriptApi\n",
    "\n",
    "ans = []\n",
    "\n",
    "for i in range(len(hc_ml_id)):\n",
    "    caption = YouTubeTranscriptApi.get_transcript(hc_ml_id[i])\n",
    "    caption_merge(caption,hc_ml_id[i],ans)\n"
   ]
  },
  {
   "cell_type": "code",
   "execution_count": 7,
   "id": "1e48ceea",
   "metadata": {},
   "outputs": [],
   "source": [
    "import json\n",
    "\n",
    "# Sample dictionary data\n",
    "data = {\n",
    "    \"HC-ML\":ans\n",
    "}\n",
    "\n",
    "# Save the dictionary as a JSON file\n",
    "with open(\"Healthcare-ML-caption.json\", \"w\") as file:\n",
    "    json.dump(data, file)"
   ]
  },
  {
   "cell_type": "code",
   "execution_count": null,
   "id": "54ead48a",
   "metadata": {},
   "outputs": [],
   "source": []
  }
 ],
 "metadata": {
  "kernelspec": {
   "display_name": "Python 3 (ipykernel)",
   "language": "python",
   "name": "python3"
  },
  "language_info": {
   "codemirror_mode": {
    "name": "ipython",
    "version": 3
   },
   "file_extension": ".py",
   "mimetype": "text/x-python",
   "name": "python",
   "nbconvert_exporter": "python",
   "pygments_lexer": "ipython3",
   "version": "3.10.11"
  }
 },
 "nbformat": 4,
 "nbformat_minor": 5
}
