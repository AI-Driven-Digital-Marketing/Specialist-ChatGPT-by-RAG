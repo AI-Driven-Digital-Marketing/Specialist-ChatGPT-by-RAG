{
 "cells": [
  {
   "cell_type": "code",
   "execution_count": 1,
   "id": "03a91d44",
   "metadata": {},
   "outputs": [
    {
     "ename": "FileNotFoundError",
     "evalue": "[Errno 2] No such file or directory: 'Youtube_Oauth.json'",
     "output_type": "error",
     "traceback": [
      "\u001b[0;31m---------------------------------------------------------------------------\u001b[0m",
      "\u001b[0;31mFileNotFoundError\u001b[0m                         Traceback (most recent call last)",
      "Input \u001b[0;32mIn [1]\u001b[0m, in \u001b[0;36m<cell line: 12>\u001b[0;34m()\u001b[0m\n\u001b[1;32m      8\u001b[0m \u001b[38;5;28;01mimport\u001b[39;00m \u001b[38;5;21;01mgoogle_auth_oauthlib\u001b[39;00m\u001b[38;5;21;01m.\u001b[39;00m\u001b[38;5;21;01mflow\u001b[39;00m\n\u001b[1;32m     10\u001b[0m scopes \u001b[38;5;241m=\u001b[39m [\u001b[38;5;124m\"\u001b[39m\u001b[38;5;124mhttps://www.googleapis.com/auth/youtube.force-ssl\u001b[39m\u001b[38;5;124m\"\u001b[39m]\n\u001b[0;32m---> 12\u001b[0m flow \u001b[38;5;241m=\u001b[39m \u001b[43mInstalledAppFlow\u001b[49m\u001b[38;5;241;43m.\u001b[39;49m\u001b[43mfrom_client_secrets_file\u001b[49m\u001b[43m(\u001b[49m\n\u001b[1;32m     13\u001b[0m \u001b[43m \u001b[49m\u001b[38;5;124;43m\"\u001b[39;49m\u001b[38;5;124;43mYoutube_Oauth.json\u001b[39;49m\u001b[38;5;124;43m\"\u001b[39;49m\u001b[43m,\u001b[49m\u001b[43m \u001b[49m\u001b[43mscopes\u001b[49m\u001b[43m \u001b[49m\u001b[38;5;241;43m=\u001b[39;49m\u001b[43m \u001b[49m\u001b[43mscopes\u001b[49m\u001b[43m)\u001b[49m\n\u001b[1;32m     15\u001b[0m flow\u001b[38;5;241m.\u001b[39mrun_local_server(port \u001b[38;5;241m=\u001b[39m \u001b[38;5;241m8080\u001b[39m)\n\u001b[1;32m     17\u001b[0m credentials \u001b[38;5;241m=\u001b[39m flow\u001b[38;5;241m.\u001b[39mcredentials\n",
      "File \u001b[0;32m~/opt/anaconda3/lib/python3.9/site-packages/google_auth_oauthlib/flow.py:204\u001b[0m, in \u001b[0;36mFlow.from_client_secrets_file\u001b[0;34m(cls, client_secrets_file, scopes, **kwargs)\u001b[0m\n\u001b[1;32m    189\u001b[0m \u001b[38;5;129m@classmethod\u001b[39m\n\u001b[1;32m    190\u001b[0m \u001b[38;5;28;01mdef\u001b[39;00m \u001b[38;5;21mfrom_client_secrets_file\u001b[39m(\u001b[38;5;28mcls\u001b[39m, client_secrets_file, scopes, \u001b[38;5;241m*\u001b[39m\u001b[38;5;241m*\u001b[39mkwargs):\n\u001b[1;32m    191\u001b[0m \u001b[38;5;250m    \u001b[39m\u001b[38;5;124;03m\"\"\"Creates a :class:`Flow` instance from a Google client secrets file.\u001b[39;00m\n\u001b[1;32m    192\u001b[0m \n\u001b[1;32m    193\u001b[0m \u001b[38;5;124;03m    Args:\u001b[39;00m\n\u001b[0;32m   (...)\u001b[0m\n\u001b[1;32m    202\u001b[0m \u001b[38;5;124;03m        Flow: The constructed Flow instance.\u001b[39;00m\n\u001b[1;32m    203\u001b[0m \u001b[38;5;124;03m    \"\"\"\u001b[39;00m\n\u001b[0;32m--> 204\u001b[0m     \u001b[38;5;28;01mwith\u001b[39;00m \u001b[38;5;28;43mopen\u001b[39;49m\u001b[43m(\u001b[49m\u001b[43mclient_secrets_file\u001b[49m\u001b[43m,\u001b[49m\u001b[43m \u001b[49m\u001b[38;5;124;43m\"\u001b[39;49m\u001b[38;5;124;43mr\u001b[39;49m\u001b[38;5;124;43m\"\u001b[39;49m\u001b[43m)\u001b[49m \u001b[38;5;28;01mas\u001b[39;00m json_file:\n\u001b[1;32m    205\u001b[0m         client_config \u001b[38;5;241m=\u001b[39m json\u001b[38;5;241m.\u001b[39mload(json_file)\n\u001b[1;32m    207\u001b[0m     \u001b[38;5;28;01mreturn\u001b[39;00m \u001b[38;5;28mcls\u001b[39m\u001b[38;5;241m.\u001b[39mfrom_client_config(client_config, scopes\u001b[38;5;241m=\u001b[39mscopes, \u001b[38;5;241m*\u001b[39m\u001b[38;5;241m*\u001b[39mkwargs)\n",
      "\u001b[0;31mFileNotFoundError\u001b[0m: [Errno 2] No such file or directory: 'Youtube_Oauth.json'"
     ]
    }
   ],
   "source": [
    "import os\n",
    "\n",
    "from google_auth_oauthlib.flow import InstalledAppFlow\n",
    "from google.auth.transport.requests import Request\n",
    "from googleapiclient.discovery import build\n",
    "import googleapiclient.discovery\n",
    "import googleapiclient.errors\n",
    "import google_auth_oauthlib.flow\n",
    "\n",
    "scopes = [\"https://www.googleapis.com/auth/youtube.force-ssl\"]\n",
    "\n",
    "flow = InstalledAppFlow.from_client_secrets_file(\n",
    " \"Youtube_Oauth.json\", scopes = scopes)\n",
    "\n",
    "flow.run_local_server(port = 8080)\n",
    "\n",
    "credentials = flow.credentials"
   ]
  },
  {
   "cell_type": "code",
   "execution_count": 29,
   "id": "b6a4e0a2",
   "metadata": {},
   "outputs": [],
   "source": [
    "api_service_name = \"youtube\"\n",
    "api_version = \"v3\"\n",
    "client_secrets_file = \"Youtube_Oauth.json\"\n",
    "\n",
    "youtube = googleapiclient.discovery.build(\n",
    "    api_service_name, api_version, credentials=credentials)"
   ]
  },
  {
   "cell_type": "code",
   "execution_count": 30,
   "id": "2a22dc37",
   "metadata": {},
   "outputs": [],
   "source": [
    "#Healthcare machine learning lesson id\n",
    "\n",
    "hc_ml_id = ['vof7x8r_ZUA','DS97JV_o0Fs','0UFwGJe6ubg','_shuV1tJbTU','wqI_z1yumzY',\n",
    "           'lLhfDSOwWtU','IiD3YZkkCmE','lkO2ocJBsmI','ZQu2B3GyI_k','MoEaRpLNo9A',\n",
    "           'VuKOW8d4KHw','PKCMH5KOcxQ','2ZXYM1h9pgY','gRkUhg9Wb-I','g5v-NvNoJQQ',\n",
    "           'YZ5pOgY5hEE','zdotUAxiPGM','yYWyLZrdRRI','aJqgO8e37_g','kZrb6ZIwJqg',\n",
    "           'Td01vFP3uJo','k95abdkdCPk','zYgkr0KfWM0','MdUnh4PaGKw','wDLzLN1tArA']"
   ]
  },
  {
   "cell_type": "code",
   "execution_count": 31,
   "id": "822a945f",
   "metadata": {},
   "outputs": [],
   "source": [
    "#cancer drug id\n",
    "\n",
    "\n",
    "\n",
    "drug_id = ['rtR3yl5U4yk','zm3S71Gk1qE','QbcxlOalFr0','wytDunVxNx0','fecZsFwETII']\n",
    "#QbcxlOalFr0: Anti-inflammatory drugs \n",
    "#wytDunVxNx0: drug abuse\n",
    "#fecZsFwETII: Ibuprofen vs. Aleve vs. Turmeric vs. Tylenol (Updated with Aspirin) Pharmacist Chris Explains\n",
    "\n"
   ]
  },
  {
   "cell_type": "code",
   "execution_count": 32,
   "id": "69c3a90f",
   "metadata": {},
   "outputs": [],
   "source": [
    "def caption_merge(text,video_id,ans):\n",
    "    #Get youtube info\n",
    "    request = youtube.videos().list(\n",
    "    part=\"snippet\",\n",
    "    id=video_id)\n",
    "    response = request.execute()\n",
    "    title = response['items'][0]['snippet']['title']\n",
    "    channelTitle = response['items'][0]['snippet']['channelTitle']\n",
    "    publishedAt = response['items'][0]['snippet']['publishedAt']\n",
    "    \n",
    "    \n",
    "    \n",
    "    output = []\n",
    "    curr_caption = ' '\n",
    "    current_id = 0\n",
    "\n",
    "    for i in range(len(text)):\n",
    "        #final_stop\n",
    "        if i == len(text)-1:\n",
    "            output.append({'text':curr_caption,\n",
    "                          'id':video_id+'_'+str(int(current_id))})\n",
    "            pass\n",
    "        \n",
    "        #to next session\n",
    "        if current_id != text[i]['start']//60:\n",
    "            output.append({'text':curr_caption,\n",
    "                          'id':video_id+'_'+str(int(current_id)),\n",
    "                          'title':title,\n",
    "                          channelTitle:channelTitle,\n",
    "                          publishedAt:publishedAt})\n",
    "            \n",
    "            current_id = text[i]['start']//60\n",
    "            curr_caption = ' '\n",
    "        \n",
    "        else:\n",
    "            curr_caption += (' ' + text[i]['text'])\n",
    "            continue\n",
    "    \n",
    "    ans += output"
   ]
  },
  {
   "cell_type": "code",
   "execution_count": 33,
   "id": "4ded2258",
   "metadata": {},
   "outputs": [],
   "source": [
    "from youtube_transcript_api import YouTubeTranscriptApi\n",
    "\n",
    "ans_hc_ml = []\n",
    "ans_drug = []\n",
    "\n",
    "for i in range(len(hc_ml_id)):\n",
    "    caption = YouTubeTranscriptApi.get_transcript(hc_ml_id[i])\n",
    "    caption_merge(caption,hc_ml_id[i],ans_hc_ml)\n",
    "\n",
    "    \n",
    "for i in range(len(drug_id)):\n",
    "    caption = YouTubeTranscriptApi.get_transcript(drug_id[i])\n",
    "    caption_merge(caption,hc_ml_id[i],ans_drug)\n"
   ]
  },
  {
   "cell_type": "code",
   "execution_count": 34,
   "id": "1e48ceea",
   "metadata": {},
   "outputs": [],
   "source": [
    "import json\n",
    "\n",
    "# Sample dictionary data\n",
    "data = {\n",
    "    \"HC-ML\":ans_hc_ml,\n",
    "    \"drug\":ans_drug\n",
    "}\n",
    "\n",
    "# Save the dictionary as a JSON file\n",
    "with open(\"Healthcare-ML-caption.json\", \"w\") as file:\n",
    "    json.dump(data, file)"
   ]
  },
  {
   "cell_type": "code",
   "execution_count": null,
   "id": "54ead48a",
   "metadata": {},
   "outputs": [],
   "source": []
  }
 ],
 "metadata": {
  "kernelspec": {
   "display_name": "Python 3 (ipykernel)",
   "language": "python",
   "name": "python3"
  },
  "language_info": {
   "codemirror_mode": {
    "name": "ipython",
    "version": 3
   },
   "file_extension": ".py",
   "mimetype": "text/x-python",
   "name": "python",
   "nbconvert_exporter": "python",
   "pygments_lexer": "ipython3",
   "version": "3.9.12"
  }
 },
 "nbformat": 4,
 "nbformat_minor": 5
}
